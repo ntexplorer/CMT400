{
 "cells": [
  {
   "cell_type": "code",
   "execution_count": 1,
   "metadata": {
    "collapsed": true
   },
   "outputs": [],
   "source": [
    "from mesa.batchrunner import BatchRunner\n",
    "from covid_simulation.model import CovidModel\n",
    "from covid_simulation.data_compute import compute_fatality_rate, get_step_number\n",
    "import matplotlib.pyplot as plt"
   ]
  },
  {
   "cell_type": "code",
   "execution_count": 2,
   "outputs": [
    {
     "name": "stderr",
     "output_type": "stream",
     "text": [
      "140it [04:03,  1.74s/it]\n"
     ]
    }
   ],
   "source": [
    "# Batch run No.1, no agents wear masks, no hospital, no social distancing\n",
    "fixed_params_0 = {\n",
    "    \"width\": 50,\n",
    "    \"height\": 50,\n",
    "    \"N\": 200,\n",
    "    \"J\": 0,\n",
    "    \"K\": 0,\n",
    "    \"L\": 0,\n",
    "    \"hospital_activated\": 0,\n",
    "    \"auto_social_distancing\": 0,\n",
    "    \"manual_quarantine_lvl\":0\n",
    "}\n",
    "\n",
    "variable_params_0 = {\n",
    "    \"M\": range(1, 32, 5)\n",
    "}\n",
    "\n",
    "batch_run_0 = BatchRunner(CovidModel,\n",
    "                        variable_params_0,\n",
    "                        fixed_params_0,\n",
    "                        iterations=20,\n",
    "                        max_steps=300,\n",
    "                        model_reporters={\"Fatality_Rate\": compute_fatality_rate,\n",
    "                                         \"Step_Number\": get_step_number})\n",
    "\n",
    "batch_run_0.run_all()"
   ],
   "metadata": {
    "collapsed": false,
    "pycharm": {
     "name": "#%%\n"
    }
   }
  },
  {
   "cell_type": "code",
   "execution_count": 3,
   "outputs": [
    {
     "data": {
      "text/plain": "<matplotlib.collections.PathCollection at 0x1c155c65708>"
     },
     "execution_count": 3,
     "metadata": {},
     "output_type": "execute_result"
    },
    {
     "data": {
      "text/plain": "<Figure size 432x288 with 1 Axes>",
      "image/png": "[encoded data removed]"
     },
     "metadata": {
      "needs_background": "light"
     },
     "output_type": "display_data"
    }
   ],
   "source": [
    "run_data_0 = batch_run_0.get_model_vars_dataframe()\n",
    "run_data_0.head()\n",
    "plt.scatter(run_data_0.M, run_data_0.Fatality_Rate)"
   ],
   "metadata": {
    "collapsed": false,
    "pycharm": {
     "name": "#%%\n"
    }
   }
  },
  {
   "cell_type": "code",
   "execution_count": 4,
   "outputs": [
    {
     "data": {
      "text/plain": "<matplotlib.collections.PathCollection at 0x1c155c42f08>"
     },
     "execution_count": 4,
     "metadata": {},
     "output_type": "execute_result"
    },
    {
     "data": {
      "text/plain": "<Figure size 432x288 with 1 Axes>",
      "image/png": "[encoded data removed]"
     },
     "metadata": {
      "needs_background": "light"
     },
     "output_type": "display_data"
    }
   ],
   "source": [
    "plt.scatter(run_data_0.M, run_data_0.Step_Number)\n",
    "\n"
   ],
   "metadata": {
    "collapsed": false,
    "pycharm": {
     "name": "#%%\n"
    }
   }
  },
  {
   "cell_type": "code",
   "execution_count": 5,
   "outputs": [
    {
     "name": "stderr",
     "output_type": "stream",
     "text": [
      "305it [10:28,  2.06s/it]\n"
     ]
    },
    {
     "ename": "KeyboardInterrupt",
     "evalue": "",
     "output_type": "error",
     "traceback": [
      "\u001B[1;31m---------------------------------------------------------------------------\u001B[0m",
      "\u001B[1;31mKeyboardInterrupt\u001B[0m                         Traceback (most recent call last)",
      "\u001B[1;32m<ipython-input-5-b2e673eb780e>\u001B[0m in \u001B[0;36m<module>\u001B[1;34m\u001B[0m\n\u001B[0;32m     23\u001B[0m                                          \"Step_Number\": get_step_number})\n\u001B[0;32m     24\u001B[0m \u001B[1;33m\u001B[0m\u001B[0m\n\u001B[1;32m---> 25\u001B[1;33m \u001B[0mbatch_run_1\u001B[0m\u001B[1;33m.\u001B[0m\u001B[0mrun_all\u001B[0m\u001B[1;33m(\u001B[0m\u001B[1;33m)\u001B[0m\u001B[1;33m\u001B[0m\u001B[1;33m\u001B[0m\u001B[0m\n\u001B[0m\u001B[0;32m     26\u001B[0m \u001B[1;33m\u001B[0m\u001B[0m\n",
      "\u001B[1;32mc:\\program files\\python37\\lib\\site-packages\\mesa\\batchrunner.py\u001B[0m in \u001B[0;36mrun_all\u001B[1;34m(self)\u001B[0m\n\u001B[0;32m    156\u001B[0m                 \u001B[0mparam_values\u001B[0m \u001B[1;33m=\u001B[0m \u001B[0mall_param_values\u001B[0m\u001B[1;33m[\u001B[0m\u001B[0mi\u001B[0m\u001B[1;33m]\u001B[0m\u001B[1;33m\u001B[0m\u001B[1;33m\u001B[0m\u001B[0m\n\u001B[0;32m    157\u001B[0m                 \u001B[1;32mfor\u001B[0m \u001B[0m_\u001B[0m \u001B[1;32min\u001B[0m \u001B[0mrange\u001B[0m\u001B[1;33m(\u001B[0m\u001B[0mself\u001B[0m\u001B[1;33m.\u001B[0m\u001B[0miterations\u001B[0m\u001B[1;33m)\u001B[0m\u001B[1;33m:\u001B[0m\u001B[1;33m\u001B[0m\u001B[1;33m\u001B[0m\u001B[0m\n\u001B[1;32m--> 158\u001B[1;33m                     \u001B[0mself\u001B[0m\u001B[1;33m.\u001B[0m\u001B[0mrun_iteration\u001B[0m\u001B[1;33m(\u001B[0m\u001B[0mkwargs\u001B[0m\u001B[1;33m,\u001B[0m \u001B[0mparam_values\u001B[0m\u001B[1;33m,\u001B[0m \u001B[0mnext\u001B[0m\u001B[1;33m(\u001B[0m\u001B[0mrun_count\u001B[0m\u001B[1;33m)\u001B[0m\u001B[1;33m)\u001B[0m\u001B[1;33m\u001B[0m\u001B[1;33m\u001B[0m\u001B[0m\n\u001B[0m\u001B[0;32m    159\u001B[0m                     \u001B[0mpbar\u001B[0m\u001B[1;33m.\u001B[0m\u001B[0mupdate\u001B[0m\u001B[1;33m(\u001B[0m\u001B[1;33m)\u001B[0m\u001B[1;33m\u001B[0m\u001B[1;33m\u001B[0m\u001B[0m\n\u001B[0;32m    160\u001B[0m \u001B[1;33m\u001B[0m\u001B[0m\n",
      "\u001B[1;32mc:\\program files\\python37\\lib\\site-packages\\mesa\\batchrunner.py\u001B[0m in \u001B[0;36mrun_iteration\u001B[1;34m(self, kwargs, param_values, run_count)\u001B[0m\n\u001B[0;32m    162\u001B[0m         \u001B[0mkwargscopy\u001B[0m \u001B[1;33m=\u001B[0m \u001B[0mcopy\u001B[0m\u001B[1;33m.\u001B[0m\u001B[0mdeepcopy\u001B[0m\u001B[1;33m(\u001B[0m\u001B[0mkwargs\u001B[0m\u001B[1;33m)\u001B[0m\u001B[1;33m\u001B[0m\u001B[1;33m\u001B[0m\u001B[0m\n\u001B[0;32m    163\u001B[0m         \u001B[0mmodel\u001B[0m \u001B[1;33m=\u001B[0m \u001B[0mself\u001B[0m\u001B[1;33m.\u001B[0m\u001B[0mmodel_cls\u001B[0m\u001B[1;33m(\u001B[0m\u001B[1;33m**\u001B[0m\u001B[0mkwargscopy\u001B[0m\u001B[1;33m)\u001B[0m\u001B[1;33m\u001B[0m\u001B[1;33m\u001B[0m\u001B[0m\n\u001B[1;32m--> 164\u001B[1;33m         \u001B[0mself\u001B[0m\u001B[1;33m.\u001B[0m\u001B[0mrun_model\u001B[0m\u001B[1;33m(\u001B[0m\u001B[0mmodel\u001B[0m\u001B[1;33m)\u001B[0m\u001B[1;33m\u001B[0m\u001B[1;33m\u001B[0m\u001B[0m\n\u001B[0m\u001B[0;32m    165\u001B[0m \u001B[1;33m\u001B[0m\u001B[0m\n\u001B[0;32m    166\u001B[0m         \u001B[1;31m# Collect and store results:\u001B[0m\u001B[1;33m\u001B[0m\u001B[1;33m\u001B[0m\u001B[1;33m\u001B[0m\u001B[0m\n",
      "\u001B[1;32mc:\\program files\\python37\\lib\\site-packages\\mesa\\batchrunner.py\u001B[0m in \u001B[0;36mrun_model\u001B[1;34m(self, model)\u001B[0m\n\u001B[0;32m    187\u001B[0m         \"\"\"\n\u001B[0;32m    188\u001B[0m         \u001B[1;32mwhile\u001B[0m \u001B[0mmodel\u001B[0m\u001B[1;33m.\u001B[0m\u001B[0mrunning\u001B[0m \u001B[1;32mand\u001B[0m \u001B[0mmodel\u001B[0m\u001B[1;33m.\u001B[0m\u001B[0mschedule\u001B[0m\u001B[1;33m.\u001B[0m\u001B[0msteps\u001B[0m \u001B[1;33m<\u001B[0m \u001B[0mself\u001B[0m\u001B[1;33m.\u001B[0m\u001B[0mmax_steps\u001B[0m\u001B[1;33m:\u001B[0m\u001B[1;33m\u001B[0m\u001B[1;33m\u001B[0m\u001B[0m\n\u001B[1;32m--> 189\u001B[1;33m             \u001B[0mmodel\u001B[0m\u001B[1;33m.\u001B[0m\u001B[0mstep\u001B[0m\u001B[1;33m(\u001B[0m\u001B[1;33m)\u001B[0m\u001B[1;33m\u001B[0m\u001B[1;33m\u001B[0m\u001B[0m\n\u001B[0m\u001B[0;32m    190\u001B[0m \u001B[1;33m\u001B[0m\u001B[0m\n\u001B[0;32m    191\u001B[0m     \u001B[1;32mdef\u001B[0m \u001B[0mcollect_model_vars\u001B[0m\u001B[1;33m(\u001B[0m\u001B[0mself\u001B[0m\u001B[1;33m,\u001B[0m \u001B[0mmodel\u001B[0m\u001B[1;33m)\u001B[0m\u001B[1;33m:\u001B[0m\u001B[1;33m\u001B[0m\u001B[1;33m\u001B[0m\u001B[0m\n",
      "\u001B[1;32mD:\\Project\\CMT400\\covid_simulation\\model.py\u001B[0m in \u001B[0;36mstep\u001B[1;34m(self)\u001B[0m\n\u001B[0;32m     83\u001B[0m \u001B[1;33m\u001B[0m\u001B[0m\n\u001B[0;32m     84\u001B[0m     \u001B[1;32mdef\u001B[0m \u001B[0mstep\u001B[0m\u001B[1;33m(\u001B[0m\u001B[0mself\u001B[0m\u001B[1;33m)\u001B[0m\u001B[1;33m:\u001B[0m\u001B[1;33m\u001B[0m\u001B[1;33m\u001B[0m\u001B[0m\n\u001B[1;32m---> 85\u001B[1;33m         \u001B[0mself\u001B[0m\u001B[1;33m.\u001B[0m\u001B[0mdata_collector\u001B[0m\u001B[1;33m.\u001B[0m\u001B[0mcollect\u001B[0m\u001B[1;33m(\u001B[0m\u001B[0mself\u001B[0m\u001B[1;33m)\u001B[0m\u001B[1;33m\u001B[0m\u001B[1;33m\u001B[0m\u001B[0m\n\u001B[0m\u001B[0;32m     86\u001B[0m         \u001B[0mself\u001B[0m\u001B[1;33m.\u001B[0m\u001B[0mschedule\u001B[0m\u001B[1;33m.\u001B[0m\u001B[0mstep\u001B[0m\u001B[1;33m(\u001B[0m\u001B[1;33m)\u001B[0m\u001B[1;33m\u001B[0m\u001B[1;33m\u001B[0m\u001B[0m\n\u001B[0;32m     87\u001B[0m         \u001B[0mself\u001B[0m\u001B[1;33m.\u001B[0m\u001B[0mget_end_time\u001B[0m\u001B[1;33m(\u001B[0m\u001B[1;33m)\u001B[0m\u001B[1;33m\u001B[0m\u001B[1;33m\u001B[0m\u001B[0m\n",
      "\u001B[1;32mc:\\program files\\python37\\lib\\site-packages\\mesa\\time.py\u001B[0m in \u001B[0;36mstep\u001B[1;34m(self)\u001B[0m\n\u001B[0;32m    118\u001B[0m         \"\"\"\n\u001B[0;32m    119\u001B[0m         \u001B[1;32mfor\u001B[0m \u001B[0magent\u001B[0m \u001B[1;32min\u001B[0m \u001B[0mself\u001B[0m\u001B[1;33m.\u001B[0m\u001B[0magent_buffer\u001B[0m\u001B[1;33m(\u001B[0m\u001B[0mshuffled\u001B[0m\u001B[1;33m=\u001B[0m\u001B[1;32mTrue\u001B[0m\u001B[1;33m)\u001B[0m\u001B[1;33m:\u001B[0m\u001B[1;33m\u001B[0m\u001B[1;33m\u001B[0m\u001B[0m\n\u001B[1;32m--> 120\u001B[1;33m             \u001B[0magent\u001B[0m\u001B[1;33m.\u001B[0m\u001B[0mstep\u001B[0m\u001B[1;33m(\u001B[0m\u001B[1;33m)\u001B[0m\u001B[1;33m\u001B[0m\u001B[1;33m\u001B[0m\u001B[0m\n\u001B[0m\u001B[0;32m    121\u001B[0m         \u001B[0mself\u001B[0m\u001B[1;33m.\u001B[0m\u001B[0msteps\u001B[0m \u001B[1;33m+=\u001B[0m \u001B[1;36m1\u001B[0m\u001B[1;33m\u001B[0m\u001B[1;33m\u001B[0m\u001B[0m\n\u001B[0;32m    122\u001B[0m         \u001B[0mself\u001B[0m\u001B[1;33m.\u001B[0m\u001B[0mtime\u001B[0m \u001B[1;33m+=\u001B[0m \u001B[1;36m1\u001B[0m\u001B[1;33m\u001B[0m\u001B[1;33m\u001B[0m\u001B[0m\n",
      "\u001B[1;32mD:\\Project\\CMT400\\covid_simulation\\covid_agent.py\u001B[0m in \u001B[0;36mstep\u001B[1;34m(self)\u001B[0m\n\u001B[0;32m     51\u001B[0m             \u001B[1;32mif\u001B[0m \u001B[1;32mnot\u001B[0m \u001B[0mself\u001B[0m\u001B[1;33m.\u001B[0m\u001B[0msocial_distancing_toggle\u001B[0m\u001B[1;33m:\u001B[0m\u001B[1;33m\u001B[0m\u001B[1;33m\u001B[0m\u001B[0m\n\u001B[0;32m     52\u001B[0m                 \u001B[0mself\u001B[0m\u001B[1;33m.\u001B[0m\u001B[0mmove\u001B[0m\u001B[1;33m(\u001B[0m\u001B[1;33m)\u001B[0m\u001B[1;33m\u001B[0m\u001B[1;33m\u001B[0m\u001B[0m\n\u001B[1;32m---> 53\u001B[1;33m             \u001B[0mself\u001B[0m\u001B[1;33m.\u001B[0m\u001B[0mpass_covid\u001B[0m\u001B[1;33m(\u001B[0m\u001B[1;33m)\u001B[0m\u001B[1;33m\u001B[0m\u001B[1;33m\u001B[0m\u001B[0m\n\u001B[0m\u001B[0;32m     54\u001B[0m             \u001B[0mself\u001B[0m\u001B[1;33m.\u001B[0m\u001B[0mget_infected\u001B[0m\u001B[1;33m(\u001B[0m\u001B[1;33m)\u001B[0m\u001B[1;33m\u001B[0m\u001B[1;33m\u001B[0m\u001B[0m\n\u001B[0;32m     55\u001B[0m             \u001B[0mself\u001B[0m\u001B[1;33m.\u001B[0m\u001B[0minfection_count\u001B[0m\u001B[1;33m(\u001B[0m\u001B[1;33m)\u001B[0m\u001B[1;33m\u001B[0m\u001B[1;33m\u001B[0m\u001B[0m\n",
      "\u001B[1;32mD:\\Project\\CMT400\\covid_simulation\\covid_agent.py\u001B[0m in \u001B[0;36mpass_covid\u001B[1;34m(self)\u001B[0m\n\u001B[0;32m    102\u001B[0m         \u001B[1;32mif\u001B[0m \u001B[1;32mnot\u001B[0m \u001B[0mself\u001B[0m\u001B[1;33m.\u001B[0m\u001B[0min_hospital\u001B[0m\u001B[1;33m:\u001B[0m\u001B[1;33m\u001B[0m\u001B[1;33m\u001B[0m\u001B[0m\n\u001B[0;32m    103\u001B[0m             \u001B[1;31m# find all the cellmates near the agent\u001B[0m\u001B[1;33m\u001B[0m\u001B[1;33m\u001B[0m\u001B[1;33m\u001B[0m\u001B[0m\n\u001B[1;32m--> 104\u001B[1;33m             \u001B[0mcellmates\u001B[0m \u001B[1;33m=\u001B[0m \u001B[0mself\u001B[0m\u001B[1;33m.\u001B[0m\u001B[0mmodel\u001B[0m\u001B[1;33m.\u001B[0m\u001B[0mgrid\u001B[0m\u001B[1;33m.\u001B[0m\u001B[0mget_neighbors\u001B[0m\u001B[1;33m(\u001B[0m\u001B[0mself\u001B[0m\u001B[1;33m.\u001B[0m\u001B[0mpos\u001B[0m\u001B[1;33m,\u001B[0m \u001B[1;32mTrue\u001B[0m\u001B[1;33m)\u001B[0m\u001B[1;33m\u001B[0m\u001B[1;33m\u001B[0m\u001B[0m\n\u001B[0m\u001B[0;32m    105\u001B[0m             \u001B[1;32mfor\u001B[0m \u001B[0mcellmate\u001B[0m \u001B[1;32min\u001B[0m \u001B[0mcellmates\u001B[0m\u001B[1;33m:\u001B[0m\u001B[1;33m\u001B[0m\u001B[1;33m\u001B[0m\u001B[0m\n\u001B[0;32m    106\u001B[0m                 \u001B[1;32mif\u001B[0m \u001B[1;32mnot\u001B[0m \u001B[0mcellmate\u001B[0m\u001B[1;33m.\u001B[0m\u001B[0mhas_immunity\u001B[0m\u001B[1;33m:\u001B[0m\u001B[1;33m\u001B[0m\u001B[1;33m\u001B[0m\u001B[0m\n",
      "\u001B[1;32mc:\\program files\\python37\\lib\\site-packages\\mesa\\space.py\u001B[0m in \u001B[0;36mget_neighbors\u001B[1;34m(self, pos, moore, include_center, radius)\u001B[0m\n\u001B[0;32m    273\u001B[0m \u001B[1;33m\u001B[0m\u001B[0m\n\u001B[0;32m    274\u001B[0m         \"\"\"\n\u001B[1;32m--> 275\u001B[1;33m         \u001B[1;32mreturn\u001B[0m \u001B[0mlist\u001B[0m\u001B[1;33m(\u001B[0m\u001B[0mself\u001B[0m\u001B[1;33m.\u001B[0m\u001B[0miter_neighbors\u001B[0m\u001B[1;33m(\u001B[0m\u001B[0mpos\u001B[0m\u001B[1;33m,\u001B[0m \u001B[0mmoore\u001B[0m\u001B[1;33m,\u001B[0m \u001B[0minclude_center\u001B[0m\u001B[1;33m,\u001B[0m \u001B[0mradius\u001B[0m\u001B[1;33m)\u001B[0m\u001B[1;33m)\u001B[0m\u001B[1;33m\u001B[0m\u001B[1;33m\u001B[0m\u001B[0m\n\u001B[0m\u001B[0;32m    276\u001B[0m \u001B[1;33m\u001B[0m\u001B[0m\n\u001B[0;32m    277\u001B[0m     \u001B[1;32mdef\u001B[0m \u001B[0mtorus_adj\u001B[0m\u001B[1;33m(\u001B[0m\u001B[0mself\u001B[0m\u001B[1;33m,\u001B[0m \u001B[0mpos\u001B[0m\u001B[1;33m:\u001B[0m \u001B[0mCoordinate\u001B[0m\u001B[1;33m)\u001B[0m \u001B[1;33m->\u001B[0m \u001B[0mCoordinate\u001B[0m\u001B[1;33m:\u001B[0m\u001B[1;33m\u001B[0m\u001B[1;33m\u001B[0m\u001B[0m\n",
      "\u001B[1;32mc:\\program files\\python37\\lib\\site-packages\\mesa\\space.py\u001B[0m in \u001B[0;36m<genexpr>\u001B[1;34m(.0)\u001B[0m\n\u001B[0;32m    305\u001B[0m \u001B[1;33m\u001B[0m\u001B[0m\n\u001B[0;32m    306\u001B[0m         \"\"\"\n\u001B[1;32m--> 307\u001B[1;33m         \u001B[1;32mreturn\u001B[0m \u001B[1;33m(\u001B[0m\u001B[0mself\u001B[0m\u001B[1;33m[\u001B[0m\u001B[0mx\u001B[0m\u001B[1;33m]\u001B[0m\u001B[1;33m[\u001B[0m\u001B[0my\u001B[0m\u001B[1;33m]\u001B[0m \u001B[1;32mfor\u001B[0m \u001B[0mx\u001B[0m\u001B[1;33m,\u001B[0m \u001B[0my\u001B[0m \u001B[1;32min\u001B[0m \u001B[0mcell_list\u001B[0m \u001B[1;32mif\u001B[0m \u001B[1;32mnot\u001B[0m \u001B[0mself\u001B[0m\u001B[1;33m.\u001B[0m\u001B[0mis_cell_empty\u001B[0m\u001B[1;33m(\u001B[0m\u001B[1;33m(\u001B[0m\u001B[0mx\u001B[0m\u001B[1;33m,\u001B[0m \u001B[0my\u001B[0m\u001B[1;33m)\u001B[0m\u001B[1;33m)\u001B[0m\u001B[1;33m)\u001B[0m\u001B[1;33m\u001B[0m\u001B[1;33m\u001B[0m\u001B[0m\n\u001B[0m\u001B[0;32m    308\u001B[0m \u001B[1;33m\u001B[0m\u001B[0m\n\u001B[0;32m    309\u001B[0m     \u001B[1;33m@\u001B[0m\u001B[0maccept_tuple_argument\u001B[0m\u001B[1;33m\u001B[0m\u001B[1;33m\u001B[0m\u001B[0m\n",
      "\u001B[1;32mc:\\program files\\python37\\lib\\site-packages\\mesa\\space.py\u001B[0m in \u001B[0;36miter_neighborhood\u001B[1;34m(self, pos, moore, include_center, radius)\u001B[0m\n\u001B[0;32m    187\u001B[0m                 \u001B[0mcoords\u001B[0m \u001B[1;33m=\u001B[0m \u001B[1;33m(\u001B[0m\u001B[0mpx\u001B[0m\u001B[1;33m,\u001B[0m \u001B[0mpy\u001B[0m\u001B[1;33m)\u001B[0m\u001B[1;33m\u001B[0m\u001B[1;33m\u001B[0m\u001B[0m\n\u001B[0;32m    188\u001B[0m                 \u001B[1;32mif\u001B[0m \u001B[0mcoords\u001B[0m \u001B[1;32mnot\u001B[0m \u001B[1;32min\u001B[0m \u001B[0mcoordinates\u001B[0m\u001B[1;33m:\u001B[0m\u001B[1;33m\u001B[0m\u001B[1;33m\u001B[0m\u001B[0m\n\u001B[1;32m--> 189\u001B[1;33m                     \u001B[0mcoordinates\u001B[0m\u001B[1;33m.\u001B[0m\u001B[0madd\u001B[0m\u001B[1;33m(\u001B[0m\u001B[0mcoords\u001B[0m\u001B[1;33m)\u001B[0m\u001B[1;33m\u001B[0m\u001B[1;33m\u001B[0m\u001B[0m\n\u001B[0m\u001B[0;32m    190\u001B[0m                     \u001B[1;32myield\u001B[0m \u001B[0mcoords\u001B[0m\u001B[1;33m\u001B[0m\u001B[1;33m\u001B[0m\u001B[0m\n\u001B[0;32m    191\u001B[0m \u001B[1;33m\u001B[0m\u001B[0m\n",
      "\u001B[1;31mKeyboardInterrupt\u001B[0m: "
     ]
    }
   ],
   "source": [
    "# Batch run No.2, agents wear masks, no hospital, no social distancing\n",
    "fixed_params_1 = {\n",
    "    \"width\": 50,\n",
    "    \"height\": 50,\n",
    "    \"N\": 200,\n",
    "    \"M\": 30,\n",
    "    \"K\": 30,\n",
    "    \"L\": 0,\n",
    "    \"hospital_activated\": 0,\n",
    "    \"auto_social_distancing\": 0,\n",
    "    \"manual_quarantine_lvl\":0\n",
    "}\n",
    "\n",
    "variable_params_1 = {\n",
    "    \"J\": range(0,171,10)\n",
    "}\n",
    "\n",
    "batch_run_1 = BatchRunner(CovidModel,\n",
    "                        variable_params_1,\n",
    "                        fixed_params_1,\n",
    "                        iterations=20,\n",
    "                        max_steps=300,\n",
    "                        model_reporters={\"Fatality_Rate\": compute_fatality_rate,\n",
    "                                         \"Step_Number\": get_step_number})\n",
    "\n",
    "batch_run_1.run_all()"
   ],
   "metadata": {
    "collapsed": false,
    "pycharm": {
     "name": "#%%\n"
    }
   }
  },
  {
   "cell_type": "code",
   "execution_count": null,
   "outputs": [],
   "source": [
    "run_data_1 = batch_run_1.get_model_vars_dataframe()\n",
    "run_data_1.head()\n",
    "plt.scatter(run_data_1.J, run_data_1.Fatality_Rate)"
   ],
   "metadata": {
    "collapsed": false,
    "pycharm": {
     "name": "#%%\n"
    }
   }
  },
  {
   "cell_type": "code",
   "execution_count": null,
   "outputs": [],
   "source": [
    "plt.scatter(run_data_1.J, run_data_1.Step_Number)"
   ],
   "metadata": {
    "collapsed": false,
    "pycharm": {
     "name": "#%%\n"
    }
   }
  },
  {
   "cell_type": "code",
   "execution_count": null,
   "outputs": [],
   "source": [
    "# Batch run No.3, no agents wear masks, hospital activated, no social distancing\n",
    "fixed_params_2 = {\n",
    "    \"width\": 50,\n",
    "    \"height\": 50,\n",
    "    \"N\": 200,\n",
    "    \"M\": 30,\n",
    "    \"J\": 0,\n",
    "    \"K\": 0,\n",
    "    \"hospital_activated\": 1,\n",
    "    \"auto_social_distancing\": 0,\n",
    "    \"manual_quarantine_lvl\":0\n",
    "}\n",
    "\n",
    "variable_params_2 = {\n",
    "    \"L\": range(5,36,5)\n",
    "}\n",
    "\n",
    "batch_run_2 = BatchRunner(CovidModel,\n",
    "                        variable_params_2,\n",
    "                        fixed_params_2,\n",
    "                        iterations=20,\n",
    "                        max_steps=300,\n",
    "                        model_reporters={\"Fatality_Rate\": compute_fatality_rate,\n",
    "                                         \"Step_Number\": get_step_number})\n",
    "\n",
    "batch_run_2.run_all()"
   ],
   "metadata": {
    "collapsed": false,
    "pycharm": {
     "name": "#%%\n"
    }
   }
  },
  {
   "cell_type": "code",
   "execution_count": null,
   "outputs": [],
   "source": [
    "run_data_2 = batch_run_2.get_model_vars_dataframe()\n",
    "run_data_2.head()\n",
    "plt.scatter(run_data_2.L, run_data_2.Fatality_Rate)"
   ],
   "metadata": {
    "collapsed": false,
    "pycharm": {
     "name": "#%%\n"
    }
   }
  },
  {
   "cell_type": "code",
   "execution_count": null,
   "outputs": [],
   "source": [
    "plt.scatter(run_data_2.L, run_data_2.Step_Number)"
   ],
   "metadata": {
    "collapsed": false,
    "pycharm": {
     "name": "#%%\n"
    }
   }
  },
  {
   "cell_type": "code",
   "execution_count": null,
   "outputs": [],
   "source": [
    "# Batch run No.4, no agents wear masks, no hospital, auto social distancing activated\n",
    "fixed_params_3 = {\n",
    "    \"width\": 50,\n",
    "    \"height\": 50,\n",
    "    \"N\": 200,\n",
    "    \"J\": 0,\n",
    "    \"K\": 0,\n",
    "    \"L\": 0,\n",
    "    \"hospital_activated\": 0,\n",
    "    \"auto_social_distancing\": 1,\n",
    "    \"manual_quarantine_lvl\":0\n",
    "}\n",
    "\n",
    "variable_params_3 = {\n",
    "    \"M\": range(1,32,5)\n",
    "}\n",
    "\n",
    "batch_run_3 = BatchRunner(CovidModel,\n",
    "                        variable_params_3,\n",
    "                        fixed_params_3,\n",
    "                        iterations=20,\n",
    "                        max_steps=300,\n",
    "                        model_reporters={\"Fatality_Rate\": compute_fatality_rate,\n",
    "                                         \"Step_Number\": get_step_number})\n",
    "\n",
    "batch_run_3.run_all()"
   ],
   "metadata": {
    "collapsed": false,
    "pycharm": {
     "name": "#%%\n"
    }
   }
  },
  {
   "cell_type": "code",
   "execution_count": null,
   "outputs": [],
   "source": [
    "run_data_3 = batch_run_3.get_model_vars_dataframe()\n",
    "run_data_3.head()\n",
    "plt.scatter(run_data_3.M, run_data_3.Fatality_Rate)"
   ],
   "metadata": {
    "collapsed": false,
    "pycharm": {
     "name": "#%%\n"
    }
   }
  },
  {
   "cell_type": "code",
   "execution_count": null,
   "outputs": [],
   "source": [
    "plt.scatter(run_data_3.M, run_data_3.Step_Number)"
   ],
   "metadata": {
    "collapsed": false,
    "pycharm": {
     "name": "#%%\n"
    }
   }
  },
  {
   "cell_type": "code",
   "execution_count": null,
   "outputs": [],
   "source": [
    "# Batch run No.5, no agents wear masks, no hospital, no social distancing activated\n",
    "# Manual social distancing is switched to level 2\n",
    "fixed_params_4 = {\n",
    "    \"width\": 50,\n",
    "    \"height\": 50,\n",
    "    \"N\": 200,\n",
    "    \"J\": 0,\n",
    "    \"K\": 0,\n",
    "    \"L\": 0,\n",
    "    \"hospital_activated\": 0,\n",
    "    \"auto_social_distancing\": 0,\n",
    "    \"manual_quarantine_lvl\":2\n",
    "}\n",
    "\n",
    "variable_params_4 = {\n",
    "    \"M\": range(1,32,5)\n",
    "}\n",
    "\n",
    "batch_run_4 = BatchRunner(CovidModel,\n",
    "                        variable_params_4,\n",
    "                        fixed_params_4,\n",
    "                        iterations=20,\n",
    "                        max_steps=300,\n",
    "                        model_reporters={\"Fatality_Rate\": compute_fatality_rate,\n",
    "                                         \"Step_Number\": get_step_number})\n",
    "\n",
    "batch_run_4.run_all()"
   ],
   "metadata": {
    "collapsed": false,
    "pycharm": {
     "name": "#%%\n"
    }
   }
  },
  {
   "cell_type": "code",
   "execution_count": null,
   "outputs": [],
   "source": [
    "run_data_4 = batch_run_4.get_model_vars_dataframe()\n",
    "run_data_4.head()\n",
    "plt.scatter(run_data_4.M, run_data_4.Fatality_Rate)"
   ],
   "metadata": {
    "collapsed": false,
    "pycharm": {
     "name": "#%%\n"
    }
   }
  },
  {
   "cell_type": "code",
   "execution_count": null,
   "outputs": [],
   "source": [
    "plt.scatter(run_data_4.M, run_data_4.Step_Number)"
   ],
   "metadata": {
    "collapsed": false,
    "pycharm": {
     "name": "#%%\n"
    }
   }
  },
  {
   "cell_type": "code",
   "execution_count": null,
   "outputs": [],
   "source": [
    "# Batch run No.6, agents wear masks, hospital activated, auto social distancing activated\n",
    "fixed_params_5 = {\n",
    "    \"width\": 50,\n",
    "    \"height\": 50,\n",
    "    \"N\": 200,\n",
    "    \"M\": 30,\n",
    "    \"J\": 170,\n",
    "    \"K\": 30,\n",
    "    \"hospital_activated\": 1,\n",
    "    \"auto_social_distancing\": 1,\n",
    "    \"manual_quarantine_lvl\":0\n",
    "}\n",
    "\n",
    "variable_params_5 = {\n",
    "    \"L\": range(5,36,5),\n",
    "}\n",
    "\n",
    "batch_run_5 = BatchRunner(CovidModel,\n",
    "                        variable_params_5,\n",
    "                        fixed_params_5,\n",
    "                        iterations=20,\n",
    "                        max_steps=300,\n",
    "                        model_reporters={\"Fatality_Rate\": compute_fatality_rate,\n",
    "                                         \"Step_Number\": get_step_number})\n",
    "\n",
    "batch_run_5.run_all()"
   ],
   "metadata": {
    "collapsed": false,
    "pycharm": {
     "name": "#%%\n"
    }
   }
  },
  {
   "cell_type": "code",
   "execution_count": null,
   "outputs": [],
   "source": [
    "run_data_5 = batch_run_5.get_model_vars_dataframe()\n",
    "run_data_5.head()\n",
    "plt.scatter(run_data_5.L, run_data_5.Fatality_Rate)"
   ],
   "metadata": {
    "collapsed": false,
    "pycharm": {
     "name": "#%%\n"
    }
   }
  },
  {
   "cell_type": "code",
   "execution_count": null,
   "outputs": [],
   "source": [
    "plt.scatter(run_data_5.L, run_data_5.Step_Number)"
   ],
   "metadata": {
    "collapsed": false,
    "pycharm": {
     "name": "#%%\n"
    }
   }
  }
 ],
 "metadata": {
  "kernelspec": {
   "display_name": "Python 3",
   "language": "python",
   "name": "python3"
  },
  "language_info": {
   "codemirror_mode": {
    "name": "ipython",
    "version": 2
   },
   "file_extension": ".py",
   "mimetype": "text/x-python",
   "name": "python",
   "nbconvert_exporter": "python",
   "pygments_lexer": "ipython2",
   "version": "2.7.6"
  }
 },
 "nbformat": 4,
 "nbformat_minor": 0
}