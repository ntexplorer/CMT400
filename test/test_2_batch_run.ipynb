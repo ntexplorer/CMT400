{
 "cells": [
  {
   "cell_type": "code",
   "execution_count": 1,
   "metadata": {
    "collapsed": true
   },
   "outputs": [],
   "source": [
    "from mesa.batchrunner import BatchRunner\n",
    "from covid_simulation.model import CovidModel\n",
    "from covid_simulation.data_compute import compute_fatality_rate, get_step_number, get_highest_morbidity_rate\n",
    "import matplotlib.pyplot as plt"
   ]
  },
  {
   "cell_type": "code",
   "execution_count": 2,
   "outputs": [
    {
     "name": "stderr",
     "output_type": "stream",
     "text": [
      "7it [00:11,  1.69s/it]\n"
     ]
    }
   ],
   "source": [
    "# Batch run No.1, no agents wear masks, no hospital, no self isolation\n",
    "fixed_params_0 = {\n",
    "    \"width\": 50,\n",
    "    \"height\": 50,\n",
    "    \"N\": 200,\n",
    "    \"J\": 0,\n",
    "    \"K\": 0,\n",
    "    \"L\": 0,\n",
    "    \"hospital_activated\": 0,\n",
    "    \"auto_self_isolation\": 0,\n",
    "    \"manual_self_isolation_lvl\":0\n",
    "}\n",
    "\n",
    "variable_params_0 = {\n",
    "    \"M\": range(1, 32, 5)\n",
    "}\n",
    "\n",
    "batch_run_0 = BatchRunner(CovidModel,\n",
    "                        variable_params_0,\n",
    "                        fixed_params_0,\n",
    "                        iterations=15,\n",
    "                        max_steps=300,\n",
    "                        model_reporters={\"Fatality_Rate\": compute_fatality_rate,\n",
    "                                         \"Step_Number\": get_step_number,\n",
    "                                         \"Highest_Morbidity_Rate\": get_highest_morbidity_rate})\n",
    "\n",
    "batch_run_0.run_all()"
   ],
   "metadata": {
    "collapsed": false,
    "pycharm": {
     "name": "#%%\n"
    }
   }
  },
  {
   "cell_type": "code",
   "execution_count": 3,
   "outputs": [
    {
     "data": {
      "text/plain": "<matplotlib.collections.PathCollection at 0x1989bb559c8>"
     },
     "execution_count": 3,
     "metadata": {},
     "output_type": "execute_result"
    },
    {
     "data": {
      "text/plain": "<Figure size 432x288 with 1 Axes>",
      "image/png": "[encoded data removed]"
     },
     "metadata": {
      "needs_background": "light"
     },
     "output_type": "display_data"
    }
   ],
   "source": [
    "run_data_0 = batch_run_0.get_model_vars_dataframe()\n",
    "run_data_0.head()\n",
    "plt.scatter(run_data_0.M, run_data_0.Fatality_Rate)"
   ],
   "metadata": {
    "collapsed": false,
    "pycharm": {
     "name": "#%%\n"
    }
   }
  },
  {
   "cell_type": "code",
   "execution_count": 4,
   "outputs": [
    {
     "data": {
      "text/plain": "<matplotlib.collections.PathCollection at 0x1989dd29408>"
     },
     "execution_count": 4,
     "metadata": {},
     "output_type": "execute_result"
    },
    {
     "data": {
      "text/plain": "<Figure size 432x288 with 1 Axes>",
      "image/png": "[encoded data removed]"
     },
     "metadata": {
      "needs_background": "light"
     },
     "output_type": "display_data"
    }
   ],
   "source": [
    "plt.scatter(run_data_0.M, run_data_0.Step_Number)"
   ],
   "metadata": {
    "collapsed": false,
    "pycharm": {
     "name": "#%%\n"
    }
   }
  },
  {
   "cell_type": "code",
   "execution_count": 5,
   "outputs": [
    {
     "data": {
      "text/plain": "<matplotlib.collections.PathCollection at 0x1989dd9eb88>"
     },
     "execution_count": 5,
     "metadata": {},
     "output_type": "execute_result"
    },
    {
     "data": {
      "text/plain": "<Figure size 432x288 with 1 Axes>",
      "image/png": "[encoded data removed]"
     },
     "metadata": {
      "needs_background": "light"
     },
     "output_type": "display_data"
    }
   ],
   "source": [
    "plt.scatter(run_data_0.M, run_data_0.Highest_Morbidity_Rate)\n",
    "\n"
   ],
   "metadata": {
    "collapsed": false,
    "pycharm": {
     "name": "#%%\n"
    }
   }
  },
  {
   "cell_type": "code",
   "execution_count": 6,
   "outputs": [
    {
     "name": "stderr",
     "output_type": "stream",
     "text": [
      "18it [00:37,  2.08s/it]\n"
     ]
    }
   ],
   "source": [
    "# Batch run No.2, agents wear masks, no hospital, no social distancing\n",
    "fixed_params_1 = {\n",
    "    \"width\": 50,\n",
    "    \"height\": 50,\n",
    "    \"N\": 200,\n",
    "    \"M\": 30,\n",
    "    \"K\": 30,\n",
    "    \"L\": 0,\n",
    "    \"hospital_activated\": 0,\n",
    "    \"auto_self_isolation\": 0,\n",
    "    \"manual_self_isolation_lvl\":0\n",
    "}\n",
    "\n",
    "variable_params_1 = {\n",
    "    \"J\": range(0,171,10)\n",
    "}\n",
    "\n",
    "batch_run_1 = BatchRunner(CovidModel,\n",
    "                        variable_params_1,\n",
    "                        fixed_params_1,\n",
    "                        iterations=15,\n",
    "                        max_steps=300,\n",
    "                        model_reporters={\"Fatality_Rate\": compute_fatality_rate,\n",
    "                                         \"Step_Number\": get_step_number,\n",
    "                                         \"Highest_Morbidity_Rate\": get_highest_morbidity_rate})\n",
    "\n",
    "batch_run_1.run_all()"
   ],
   "metadata": {
    "collapsed": false,
    "pycharm": {
     "name": "#%%\n"
    }
   }
  },
  {
   "cell_type": "code",
   "execution_count": 7,
   "outputs": [
    {
     "data": {
      "text/plain": "<matplotlib.collections.PathCollection at 0x1989de3f548>"
     },
     "execution_count": 7,
     "metadata": {},
     "output_type": "execute_result"
    },
    {
     "data": {
      "text/plain": "<Figure size 432x288 with 1 Axes>",
      "image/png": "[encoded data removed]"
     },
     "metadata": {
      "needs_background": "light"
     },
     "output_type": "display_data"
    }
   ],
   "source": [
    "run_data_1 = batch_run_1.get_model_vars_dataframe()\n",
    "run_data_1.head()\n",
    "plt.scatter(run_data_1.J, run_data_1.Fatality_Rate)"
   ],
   "metadata": {
    "collapsed": false,
    "pycharm": {
     "name": "#%%\n"
    }
   }
  },
  {
   "cell_type": "code",
   "execution_count": 8,
   "outputs": [
    {
     "data": {
      "text/plain": "<matplotlib.collections.PathCollection at 0x1989de3fb48>"
     },
     "execution_count": 8,
     "metadata": {},
     "output_type": "execute_result"
    },
    {
     "data": {
      "text/plain": "<Figure size 432x288 with 1 Axes>",
      "image/png": "[encoded data removed]"
     },
     "metadata": {
      "needs_background": "light"
     },
     "output_type": "display_data"
    }
   ],
   "source": [
    "plt.scatter(run_data_1.J, run_data_1.Step_Number)"
   ],
   "metadata": {
    "collapsed": false,
    "pycharm": {
     "name": "#%%\n"
    }
   }
  },
  {
   "cell_type": "code",
   "execution_count": 9,
   "outputs": [
    {
     "data": {
      "text/plain": "<matplotlib.collections.PathCollection at 0x1989defae88>"
     },
     "execution_count": 9,
     "metadata": {},
     "output_type": "execute_result"
    },
    {
     "data": {
      "text/plain": "<Figure size 432x288 with 1 Axes>",
      "image/png": "[encoded data removed]"
     },
     "metadata": {
      "needs_background": "light"
     },
     "output_type": "display_data"
    }
   ],
   "source": [
    "plt.scatter(run_data_1.J, run_data_1.Highest_Morbidity_Rate)"
   ],
   "metadata": {
    "collapsed": false,
    "pycharm": {
     "name": "#%%\n"
    }
   }
  },
  {
   "cell_type": "code",
   "execution_count": 10,
   "outputs": [
    {
     "name": "stderr",
     "output_type": "stream",
     "text": [
      "7it [00:12,  1.84s/it]\n"
     ]
    }
   ],
   "source": [
    "# Batch run No.3, no agents wear masks, hospital activated, no social distancing\n",
    "fixed_params_2 = {\n",
    "    \"width\": 50,\n",
    "    \"height\": 50,\n",
    "    \"N\": 200,\n",
    "    \"M\": 30,\n",
    "    \"J\": 0,\n",
    "    \"K\": 0,\n",
    "    \"hospital_activated\": 1,\n",
    "    \"auto_self_isolation\": 0,\n",
    "    \"manual_self_isolation_lvl\":0\n",
    "}\n",
    "\n",
    "variable_params_2 = {\n",
    "    \"L\": range(5,36,5)\n",
    "}\n",
    "\n",
    "batch_run_2 = BatchRunner(CovidModel,\n",
    "                        variable_params_2,\n",
    "                        fixed_params_2,\n",
    "                        iterations=15,\n",
    "                        max_steps=300,\n",
    "                        model_reporters={\"Fatality_Rate\": compute_fatality_rate,\n",
    "                                         \"Step_Number\": get_step_number,\n",
    "                                         \"Highest_Morbidity_Rate\": get_highest_morbidity_rate})\n",
    "\n",
    "batch_run_2.run_all()"
   ],
   "metadata": {
    "collapsed": false,
    "pycharm": {
     "name": "#%%\n"
    }
   }
  },
  {
   "cell_type": "code",
   "execution_count": 11,
   "outputs": [
    {
     "data": {
      "text/plain": "<matplotlib.collections.PathCollection at 0x1989e07ef88>"
     },
     "execution_count": 11,
     "metadata": {},
     "output_type": "execute_result"
    },
    {
     "data": {
      "text/plain": "<Figure size 432x288 with 1 Axes>",
      "image/png": "[encoded data removed]"
     },
     "metadata": {
      "needs_background": "light"
     },
     "output_type": "display_data"
    }
   ],
   "source": [
    "run_data_2 = batch_run_2.get_model_vars_dataframe()\n",
    "run_data_2.head()\n",
    "plt.scatter(run_data_2.L, run_data_2.Fatality_Rate)"
   ],
   "metadata": {
    "collapsed": false,
    "pycharm": {
     "name": "#%%\n"
    }
   }
  },
  {
   "cell_type": "code",
   "execution_count": 12,
   "outputs": [
    {
     "data": {
      "text/plain": "<matplotlib.collections.PathCollection at 0x1989e0a6e48>"
     },
     "execution_count": 12,
     "metadata": {},
     "output_type": "execute_result"
    },
    {
     "data": {
      "text/plain": "<Figure size 432x288 with 1 Axes>",
      "image/png": "[encoded data removed]"
     },
     "metadata": {
      "needs_background": "light"
     },
     "output_type": "display_data"
    }
   ],
   "source": [
    "plt.scatter(run_data_2.L, run_data_2.Step_Number)"
   ],
   "metadata": {
    "collapsed": false,
    "pycharm": {
     "name": "#%%\n"
    }
   }
  },
  {
   "cell_type": "code",
   "execution_count": 13,
   "outputs": [
    {
     "data": {
      "text/plain": "<matplotlib.collections.PathCollection at 0x1989e1068c8>"
     },
     "execution_count": 13,
     "metadata": {},
     "output_type": "execute_result"
    },
    {
     "data": {
      "text/plain": "<Figure size 432x288 with 1 Axes>",
      "image/png": "[encoded data removed]"
     },
     "metadata": {
      "needs_background": "light"
     },
     "output_type": "display_data"
    }
   ],
   "source": [
    "plt.scatter(run_data_2.L, run_data_2.Highest_Morbidity_Rate)"
   ],
   "metadata": {
    "collapsed": false,
    "pycharm": {
     "name": "#%%\n"
    }
   }
  },
  {
   "cell_type": "code",
   "execution_count": 14,
   "outputs": [
    {
     "name": "stderr",
     "output_type": "stream",
     "text": [
      "7it [00:28,  4.10s/it]\n"
     ]
    }
   ],
   "source": [
    "# Batch run No.4, no agents wear masks, no hospital, auto social distancing activated\n",
    "fixed_params_3 = {\n",
    "    \"width\": 50,\n",
    "    \"height\": 50,\n",
    "    \"N\": 200,\n",
    "    \"J\": 0,\n",
    "    \"K\": 0,\n",
    "    \"L\": 0,\n",
    "    \"hospital_activated\": 0,\n",
    "    \"auto_self_isolation\": 1,\n",
    "    \"manual_self_isolation_lvl\":0\n",
    "}\n",
    "\n",
    "variable_params_3 = {\n",
    "    \"M\": range(1,32,5)\n",
    "}\n",
    "\n",
    "batch_run_3 = BatchRunner(CovidModel,\n",
    "                        variable_params_3,\n",
    "                        fixed_params_3,\n",
    "                        iterations=15,\n",
    "                        max_steps=300,\n",
    "                        model_reporters={\"Fatality_Rate\": compute_fatality_rate,\n",
    "                                         \"Step_Number\": get_step_number,\n",
    "                                         \"Highest_Morbidity_Rate\": get_highest_morbidity_rate})\n",
    "\n",
    "batch_run_3.run_all()"
   ],
   "metadata": {
    "collapsed": false,
    "pycharm": {
     "name": "#%%\n"
    }
   }
  },
  {
   "cell_type": "code",
   "execution_count": 15,
   "outputs": [
    {
     "data": {
      "text/plain": "<matplotlib.collections.PathCollection at 0x1989e106808>"
     },
     "execution_count": 15,
     "metadata": {},
     "output_type": "execute_result"
    },
    {
     "data": {
      "text/plain": "<Figure size 432x288 with 1 Axes>",
      "image/png": "[encoded data removed]"
     },
     "metadata": {
      "needs_background": "light"
     },
     "output_type": "display_data"
    }
   ],
   "source": [
    "run_data_3 = batch_run_3.get_model_vars_dataframe()\n",
    "run_data_3.head()\n",
    "plt.scatter(run_data_3.M, run_data_3.Fatality_Rate)"
   ],
   "metadata": {
    "collapsed": false,
    "pycharm": {
     "name": "#%%\n"
    }
   }
  },
  {
   "cell_type": "code",
   "execution_count": 16,
   "outputs": [
    {
     "data": {
      "text/plain": "<matplotlib.collections.PathCollection at 0x1989deacc88>"
     },
     "execution_count": 16,
     "metadata": {},
     "output_type": "execute_result"
    },
    {
     "data": {
      "text/plain": "<Figure size 432x288 with 1 Axes>",
      "image/png": "[encoded data removed]"
     },
     "metadata": {
      "needs_background": "light"
     },
     "output_type": "display_data"
    }
   ],
   "source": [
    "plt.scatter(run_data_3.M, run_data_3.Step_Number)"
   ],
   "metadata": {
    "collapsed": false,
    "pycharm": {
     "name": "#%%\n"
    }
   }
  },
  {
   "cell_type": "code",
   "execution_count": 17,
   "outputs": [
    {
     "data": {
      "text/plain": "<matplotlib.collections.PathCollection at 0x1989df9d548>"
     },
     "execution_count": 17,
     "metadata": {},
     "output_type": "execute_result"
    },
    {
     "data": {
      "text/plain": "<Figure size 432x288 with 1 Axes>",
      "image/png": "[encoded data removed]"
     },
     "metadata": {
      "needs_background": "light"
     },
     "output_type": "display_data"
    }
   ],
   "source": [
    "plt.scatter(run_data_3.M, run_data_3.Highest_Morbidity_Rate)"
   ],
   "metadata": {
    "collapsed": false,
    "pycharm": {
     "name": "#%%\n"
    }
   }
  },
  {
   "cell_type": "code",
   "execution_count": 18,
   "outputs": [
    {
     "name": "stderr",
     "output_type": "stream",
     "text": [
      "7it [00:10,  1.46s/it]\n"
     ]
    }
   ],
   "source": [
    "# Batch run No.5, no agents wear masks, no hospital, no social distancing activated\n",
    "# Manual social distancing is switched to level 2\n",
    "fixed_params_4 = {\n",
    "    \"width\": 50,\n",
    "    \"height\": 50,\n",
    "    \"N\": 200,\n",
    "    \"J\": 0,\n",
    "    \"K\": 0,\n",
    "    \"L\": 0,\n",
    "    \"hospital_activated\": 0,\n",
    "    \"auto_self_isolation\": 0,\n",
    "    \"manual_self_isolation_lvl\":2\n",
    "}\n",
    "\n",
    "variable_params_4 = {\n",
    "    \"M\": range(1,32,5)\n",
    "}\n",
    "\n",
    "batch_run_4 = BatchRunner(CovidModel,\n",
    "                        variable_params_4,\n",
    "                        fixed_params_4,\n",
    "                        iterations=15,\n",
    "                        max_steps=300,\n",
    "                        model_reporters={\"Fatality_Rate\": compute_fatality_rate,\n",
    "                                         \"Step_Number\": get_step_number,\n",
    "                                         \"Highest_Morbidity_Rate\": get_highest_morbidity_rate})\n",
    "\n",
    "batch_run_4.run_all()"
   ],
   "metadata": {
    "collapsed": false,
    "pycharm": {
     "name": "#%%\n"
    }
   }
  },
  {
   "cell_type": "code",
   "execution_count": 19,
   "outputs": [
    {
     "data": {
      "text/plain": "<matplotlib.collections.PathCollection at 0x1989df6b8c8>"
     },
     "execution_count": 19,
     "metadata": {},
     "output_type": "execute_result"
    },
    {
     "data": {
      "text/plain": "<Figure size 432x288 with 1 Axes>",
      "image/png": "[encoded data removed]"
     },
     "metadata": {
      "needs_background": "light"
     },
     "output_type": "display_data"
    }
   ],
   "source": [
    "run_data_4 = batch_run_4.get_model_vars_dataframe()\n",
    "run_data_4.head()\n",
    "plt.scatter(run_data_4.M, run_data_4.Fatality_Rate)"
   ],
   "metadata": {
    "collapsed": false,
    "pycharm": {
     "name": "#%%\n"
    }
   }
  },
  {
   "cell_type": "code",
   "execution_count": 20,
   "outputs": [
    {
     "data": {
      "text/plain": "<matplotlib.collections.PathCollection at 0x1989f30a3c8>"
     },
     "execution_count": 20,
     "metadata": {},
     "output_type": "execute_result"
    },
    {
     "data": {
      "text/plain": "<Figure size 432x288 with 1 Axes>",
      "image/png": "[encoded data removed]"
     },
     "metadata": {
      "needs_background": "light"
     },
     "output_type": "display_data"
    }
   ],
   "source": [
    "plt.scatter(run_data_4.M, run_data_4.Step_Number)"
   ],
   "metadata": {
    "collapsed": false,
    "pycharm": {
     "name": "#%%\n"
    }
   }
  },
  {
   "cell_type": "code",
   "execution_count": 21,
   "outputs": [
    {
     "data": {
      "text/plain": "<matplotlib.collections.PathCollection at 0x1989f371308>"
     },
     "execution_count": 21,
     "metadata": {},
     "output_type": "execute_result"
    },
    {
     "data": {
      "text/plain": "<Figure size 432x288 with 1 Axes>",
      "image/png": "[encoded data removed]"
     },
     "metadata": {
      "needs_background": "light"
     },
     "output_type": "display_data"
    }
   ],
   "source": [
    "plt.scatter(run_data_4.M, run_data_4.Highest_Morbidity_Rate)"
   ],
   "metadata": {
    "collapsed": false,
    "pycharm": {
     "name": "#%%\n"
    }
   }
  },
  {
   "cell_type": "code",
   "execution_count": 22,
   "outputs": [
    {
     "name": "stderr",
     "output_type": "stream",
     "text": [
      "7it [00:39,  5.69s/it]\n"
     ]
    }
   ],
   "source": [
    "# Batch run No.6, agents wear masks, hospital activated, auto social distancing activated\n",
    "fixed_params_5 = {\n",
    "    \"width\": 50,\n",
    "    \"height\": 50,\n",
    "    \"N\": 200,\n",
    "    \"M\": 30,\n",
    "    \"J\": 170,\n",
    "    \"K\": 30,\n",
    "    \"hospital_activated\": 1,\n",
    "    \"auto_self_isolation\": 1,\n",
    "    \"manual_self_isolation_lvl\":0\n",
    "}\n",
    "\n",
    "variable_params_5 = {\n",
    "    \"L\": range(5,36,5),\n",
    "}\n",
    "\n",
    "batch_run_5 = BatchRunner(CovidModel,\n",
    "                        variable_params_5,\n",
    "                        fixed_params_5,\n",
    "                        iterations=15,\n",
    "                        max_steps=300,\n",
    "                        model_reporters={\"Fatality_Rate\": compute_fatality_rate,\n",
    "                                         \"Step_Number\": get_step_number,\n",
    "                                         \"Highest_Morbidity_Rate\": get_highest_morbidity_rate})\n",
    "\n",
    "batch_run_5.run_all()"
   ],
   "metadata": {
    "collapsed": false,
    "pycharm": {
     "name": "#%%\n"
    }
   }
  },
  {
   "cell_type": "code",
   "execution_count": 23,
   "outputs": [
    {
     "data": {
      "text/plain": "<matplotlib.collections.PathCollection at 0x1989f3712c8>"
     },
     "execution_count": 23,
     "metadata": {},
     "output_type": "execute_result"
    },
    {
     "data": {
      "text/plain": "<Figure size 432x288 with 1 Axes>",
      "image/png": "[encoded data removed]"
     },
     "metadata": {
      "needs_background": "light"
     },
     "output_type": "display_data"
    }
   ],
   "source": [
    "run_data_5 = batch_run_5.get_model_vars_dataframe()\n",
    "run_data_5.head()\n",
    "plt.scatter(run_data_5.L, run_data_5.Fatality_Rate)"
   ],
   "metadata": {
    "collapsed": false,
    "pycharm": {
     "name": "#%%\n"
    }
   }
  },
  {
   "cell_type": "code",
   "execution_count": 24,
   "outputs": [
    {
     "data": {
      "text/plain": "<matplotlib.collections.PathCollection at 0x1989f4aca08>"
     },
     "execution_count": 24,
     "metadata": {},
     "output_type": "execute_result"
    },
    {
     "data": {
      "text/plain": "<Figure size 432x288 with 1 Axes>",
      "image/png": "[encoded data removed]"
     },
     "metadata": {
      "needs_background": "light"
     },
     "output_type": "display_data"
    }
   ],
   "source": [
    "plt.scatter(run_data_5.L, run_data_5.Step_Number)"
   ],
   "metadata": {
    "collapsed": false,
    "pycharm": {
     "name": "#%%\n"
    }
   }
  },
  {
   "cell_type": "code",
   "execution_count": 25,
   "outputs": [
    {
     "data": {
      "text/plain": "<matplotlib.collections.PathCollection at 0x1989f4aca88>"
     },
     "execution_count": 25,
     "metadata": {},
     "output_type": "execute_result"
    },
    {
     "data": {
      "text/plain": "<Figure size 432x288 with 1 Axes>",
      "image/png": "[encoded data removed]"
     },
     "metadata": {
      "needs_background": "light"
     },
     "output_type": "display_data"
    }
   ],
   "source": [
    "plt.scatter(run_data_5.L, run_data_5.Highest_Morbidity_Rate)"
   ],
   "metadata": {
    "collapsed": false,
    "pycharm": {
     "name": "#%%\n"
    }
   }
  }
 ],
 "metadata": {
  "kernelspec": {
   "display_name": "Python 3",
   "language": "python",
   "name": "python3"
  },
  "language_info": {
   "codemirror_mode": {
    "name": "ipython",
    "version": 2
   },
   "file_extension": ".py",
   "mimetype": "text/x-python",
   "name": "python",
   "nbconvert_exporter": "python",
   "pygments_lexer": "ipython2",
   "version": "2.7.6"
  }
 },
 "nbformat": 4,
 "nbformat_minor": 0
}